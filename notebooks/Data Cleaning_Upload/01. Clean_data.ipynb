{
 "cells": [
  {
   "cell_type": "code",
   "execution_count": 1,
   "id": "e188fff4",
   "metadata": {},
   "outputs": [],
   "source": [
    "import concurrent.futures\n",
    "import json\n",
    "import random\n",
    "import re\n",
    "from concurrent.futures import ThreadPoolExecutor\n",
    "from typing import List, Tuple\n",
    "from datasets import Dataset\n",
    "from openai import OpenAI\n",
    "from pydantic import BaseModel, Field\n",
    "from tqdm.auto import tqdm"
   ]
  },
  {
   "cell_type": "code",
   "execution_count": 2,
   "id": "6d60eb81",
   "metadata": {},
   "outputs": [],
   "source": [
    "def load_articles_from_json(file_path: str) -> Dataset:\n",
    "    with open(file_path, \"r\") as file:\n",
    "        data = json.load(file)\n",
    "    \n",
    "    return Dataset.from_dict(\n",
    "        {\n",
    "            # \"id\": [item[\"id\"] for item in data[\"artifact_data\"]],\n",
    "            # \"content\": [item[\"content\"] for item in data[\"artifact_data\"]],\n",
    "            # \"platform\": [item[\"platform\"] for item in data[\"artifact_data\"]],\n",
    "            # \"author_id\": [item[\"author_id\"] for item in data[\"artifact_data\"]],\n",
    "            # \"author_full_name\": [item[\"author_full_name\"] for item in data[\"artifact_data\"]],\n",
    "            # \"link\": [item[\"link\"] for item in data[\"artifact_data\"]],\n",
    "            \"id\": [dat['_id'] for dat in data],\n",
    "            \"content\": [dat['content'] for dat in data],\n",
    "            \"platform\": [dat['platform'] for dat in data],\n",
    "            \"author_id\": [dat['author_id'] for dat in data],\n",
    "            \"author_full_name\": [dat['author_full_name'] for dat in data],\n",
    "            \"link\": [dat['link'] for dat in data],\n",
    "        }\n",
    "    ) "
   ]
  },
  {
   "cell_type": "code",
   "execution_count": 3,
   "id": "4f504eac",
   "metadata": {},
   "outputs": [],
   "source": [
    "def clean_text(text):\n",
    "    text = re.sub(r\"[^\\w\\s.,!?']\", \" \", text)\n",
    "    text = re.sub(r\"\\s+\", \" \", text)\n",
    "    return text.strip()"
   ]
  },
  {
   "cell_type": "code",
   "execution_count": 4,
   "id": "dad393cb",
   "metadata": {},
   "outputs": [],
   "source": [
    "def extract_substrings(dataset: Dataset, min_length: int = 1000, max_length: int = 2000) -> List[str]:\n",
    "    extracts = []\n",
    "    sentence_pattern = r\"(?<!\\w\\.\\w.)(?<![A-Z][a-z]\\.)(?<=\\.|\\?|\\!)\\s\"\n",
    "    # print(dataset)\n",
    "    for article in dataset[\"content\"]:\n",
    "        cleaned_article = clean_text(article['Content'])\n",
    "        sentences = re.split(sentence_pattern, cleaned_article)\n",
    "        current_chunk = \"\"\n",
    "        for sentence in sentences:\n",
    "            sentence = sentence.strip()\n",
    "            if not sentence:\n",
    "                continue\n",
    "            if len(current_chunk) + len(sentence) <= max_length:\n",
    "                current_chunk += sentence + \" \"\n",
    "            else:\n",
    "                if len(current_chunk) >= min_length:\n",
    "                    extracts.append(current_chunk.strip())\n",
    "                current_chunk = sentence + \" \"\n",
    "        if len(current_chunk) >= min_length:\n",
    "            extracts.append(current_chunk.strip())\n",
    "    return extracts"
   ]
  },
  {
   "cell_type": "code",
   "execution_count": 5,
   "id": "cdc56bfa",
   "metadata": {},
   "outputs": [],
   "source": [
    "class InstructionAnswerSet:\n",
    "    def __init__(self, pairs: List[Tuple[str, str]]):\n",
    "        self.pairs = pairs\n",
    "\n",
    "    @classmethod\n",
    "    def from_json(cls, json_str: str) -> 'InstructionAnswerSet':\n",
    "        data = json.loads(json_str)\n",
    "        pairs = [(pair['instruction'], pair['answer'])\n",
    "                 for pair in data['instruction_answer_pairs']]\n",
    "        return cls(pairs)\n",
    "    \n",
    "    def __iter__(self):\n",
    "        return iter(self.pairs)"
   ]
  },
  {
   "cell_type": "code",
   "execution_count": 6,
   "id": "2ea54ae5",
   "metadata": {},
   "outputs": [],
   "source": [
    "def generate_instruction_answer_pairs(extract: str, client: OpenAI) -> List[Tuple[str, str]]:\n",
    "    prompt = f\"\"\"Based on the following extract, generate five \n",
    "                instruction-answer pairs. Each instruction \\\n",
    "                must ask to write about a specific topic contained in the context. \n",
    "                each answer \\\n",
    "                must provide a relevant paragraph based on the information found in \n",
    "                the \\\n",
    "                context. Only use concepts from the context to generate the \n",
    "                instructions. \\\n",
    "                Instructions must never explicitly mention a context, a system, a \n",
    "                course, or an extract. \\\n",
    "                Instructions must be self-contained and general. \\\n",
    "                Answers must imitate the writing style of the context. \\\n",
    "                Example instruction: Explain the concept of an LLM Twin. \\\n",
    "                Example answer: An LLM Twin is essentially an AI character that \n",
    "                mimics your writing style, personality, and voice. \\\n",
    "                It's designed to write just like you by incorporating these elements \n",
    "                into a language model. \\\n",
    "                The idea is to create a digital replica of your writing habits using \n",
    "                advanced AI techniques. \\\n",
    "                Provide your response in JSON format with the following structure:\n",
    "                {{\n",
    "                    \"instruction_answer_pairs\": [\n",
    "                        {{\"instruction\": \"...\", \"answer\": \"...\"}},\n",
    "                        ...\n",
    "                    ]\n",
    "                }}\n",
    "                Extract:\n",
    "                {extract}\n",
    "                \"\"\"\n",
    "    completion = client.chat.completions.create(\n",
    "    model=\"gpt-4o-mini\",\n",
    "    messages=[\n",
    "                {\"role\": \"system\", \"content\": \"You are a helpful assistant who generates instruction-answer pairs based on the given context. Provide your response in JSON format.\"},\n",
    "                {\"role\": \"user\", \"content\": prompt},\n",
    "            ],\n",
    "        response_format={\"type\": \"json_object\"},\n",
    "        max_tokens=1200,\n",
    "        temperature=0.7,\n",
    "    )\n",
    "    \n",
    "    # Parse the structured output\n",
    "    result = InstructionAnswerSet.from_json(completion.choices[0].message.content)\n",
    "\n",
    "    # Convert to list of tuples\n",
    "    return result.pairs"
   ]
  },
  {
   "cell_type": "code",
   "execution_count": 7,
   "id": "601bbb1c",
   "metadata": {},
   "outputs": [],
   "source": [
    "def create_instruction_dataset(dataset: Dataset, client: OpenAI, num_workers: int = 4) -> Dataset:\n",
    "    extracts = extract_substrings(dataset)\n",
    "    instruction_answer_pairs = []\n",
    "    with concurrent.futures.ThreadPoolExecutor(max_workers=num_workers) as executor:\n",
    "        futures = [executor.submit(generate_instruction_answer_pairs, extract, client)\n",
    "                   for extract in extracts\n",
    "        ]\n",
    "        for future in tqdm(concurrent.futures.as_completed(futures), total=len(futures)):\n",
    "            instruction_answer_pairs.extend(future.result())\n",
    "    instructions, answers = zip(*instruction_answer_pairs)\n",
    "    return Dataset.from_dict({\"instruction\": list(instructions), \"output\": list(answers)})"
   ]
  },
  {
   "cell_type": "code",
   "execution_count": null,
   "id": "3e31631e",
   "metadata": {},
   "outputs": [
    {
     "name": "stderr",
     "output_type": "stream",
     "text": [
      "<>:4: SyntaxWarning: invalid escape sequence '\\p'\n",
      "<>:4: SyntaxWarning: invalid escape sequence '\\p'\n",
      "C:\\Users\\Aquib\\AppData\\Local\\Temp\\ipykernel_13772\\2750554286.py:4: SyntaxWarning: invalid escape sequence '\\p'\n",
      "  raw_dataset = load_articles_from_json(\"D:\\prod\\MirrorMuse\\data\\data_warehouse_raw_data\\ArticleDocument.json\")\n"
     ]
    },
    {
     "name": "stdout",
     "output_type": "stream",
     "text": [
      "Raw dataset:\n",
      "                                      id  \\\n",
      "0   01ce4881-1ec9-40d4-85c8-c4626d302094   \n",
      "1   9d2718e9-f3d7-4d89-9ee8-3d11bca693bc   \n",
      "2   f2877873-ed13-434d-9b6c-a8f50f47bdc8   \n",
      "3   ceb1afa3-dc45-4bb3-afc0-08286827b08f   \n",
      "4   3e3e824a-6442-49f7-b26b-b7a538c24335   \n",
      "..                                   ...   \n",
      "71  ef25f83c-dd53-416e-87f1-29c54ce3f4f4   \n",
      "72  6c0c601d-17ac-4cdf-afc1-740eb7355826   \n",
      "73  f73f6263-9456-4d31-be47-b5ae3ac6dfa6   \n",
      "74  22958dc9-c43a-4992-839f-a82e8be0fcda   \n",
      "75  396a112a-8bbd-48fe-b2f9-9402016bdc8d   \n",
      "\n",
      "                                              content  \\\n",
      "0   {'Content': 'Maxime Labonne\n",
      "\n",
      "  * __LLM Course\n",
      "...   \n",
      "1   {'Content': 'Maxime Labonne\n",
      "\n",
      "  * __LLM Course\n",
      "...   \n",
      "2   {'Content': '# Maxime Labonne\n",
      "\n",
      "SubscribeSign i...   \n",
      "3   {'Content': '# Maxime Labonne\n",
      "\n",
      "SubscribeSign i...   \n",
      "4   {'Content': '# Maxime Labonne\n",
      "\n",
      "SubscribeSign i...   \n",
      "..                                                ...   \n",
      "71  {'Content': '#\n",
      "\n",
      "SubscribeSign in\n",
      "\n",
      "#### Share t...   \n",
      "72  {'Content': '#\n",
      "\n",
      "SubscribeSign in\n",
      "\n",
      "#### Share t...   \n",
      "73  {'Content': '#\n",
      "\n",
      "SubscribeSign in\n",
      "\n",
      "#### Share t...   \n",
      "74  {'Content': '#\n",
      "\n",
      "SubscribeSign in\n",
      "\n",
      "#### Share t...   \n",
      "75  {'Content': '#\n",
      "\n",
      "SubscribeSign in\n",
      "\n",
      "#### Share t...   \n",
      "\n",
      "                      platform                             author_id  \\\n",
      "0           mlabonne.github.io  baed4873-defd-4899-be69-2e27fa3a7a12   \n",
      "1           mlabonne.github.io  baed4873-defd-4899-be69-2e27fa3a7a12   \n",
      "2   maximelabonne.substack.com  baed4873-defd-4899-be69-2e27fa3a7a12   \n",
      "3   maximelabonne.substack.com  baed4873-defd-4899-be69-2e27fa3a7a12   \n",
      "4   maximelabonne.substack.com  baed4873-defd-4899-be69-2e27fa3a7a12   \n",
      "..                         ...                                   ...   \n",
      "71     decodingml.substack.com  baed4873-defd-4899-be69-2e27fa3a7a12   \n",
      "72     decodingml.substack.com  baed4873-defd-4899-be69-2e27fa3a7a12   \n",
      "73     decodingml.substack.com  baed4873-defd-4899-be69-2e27fa3a7a12   \n",
      "74     decodingml.substack.com  baed4873-defd-4899-be69-2e27fa3a7a12   \n",
      "75     decodingml.substack.com  baed4873-defd-4899-be69-2e27fa3a7a12   \n",
      "\n",
      "   author_full_name                                               link  \n",
      "0    Aquib Ali Khan  https://mlabonne.github.io/blog/posts/2024-07-...  \n",
      "1    Aquib Ali Khan  https://mlabonne.github.io/blog/posts/2024-07-...  \n",
      "2    Aquib Ali Khan  https://maximelabonne.substack.com/p/uncensor-...  \n",
      "3    Aquib Ali Khan  https://maximelabonne.substack.com/p/create-mi...  \n",
      "4    Aquib Ali Khan  https://maximelabonne.substack.com/p/merge-lar...  \n",
      "..              ...                                                ...  \n",
      "71   Aquib Ali Khan  https://decodingml.substack.com/p/dml-chain-of...  \n",
      "72   Aquib Ali Khan  https://decodingml.substack.com/p/dml-build-an...  \n",
      "73   Aquib Ali Khan  https://decodingml.substack.com/p/dml-4-key-id...  \n",
      "74   Aquib Ali Khan  https://decodingml.substack.com/p/dml-how-to-a...  \n",
      "75   Aquib Ali Khan  https://decodingml.substack.com/p/dml-top-6-ml...  \n",
      "\n",
      "[76 rows x 6 columns]\n"
     ]
    },
    {
     "data": {
      "application/vnd.jupyter.widget-view+json": {
       "model_id": "d4722015d87645ecbedf264d1e672867",
       "version_major": 2,
       "version_minor": 0
      },
      "text/plain": [
       "  0%|          | 0/422 [00:00<?, ?it/s]"
      ]
     },
     "metadata": {},
     "output_type": "display_data"
    }
   ],
   "source": [
    "client = OpenAI()\n",
    "    \n",
    "# 1. Load the raw data\n",
    "raw_dataset = load_articles_from_json(\"D:\\prod\\MirrorMuse\\data\\data_warehouse_raw_data\\ArticleDocument.json\")\n",
    "print(\"Raw dataset:\")\n",
    "\n",
    "print(raw_dataset.to_pandas())\n",
    "\n",
    "# 2. Create instructiondataset\n",
    "instruction_dataset = create_instruction_dataset(raw_dataset, client)\n",
    "print(\"Instruction dataset:\")\n",
    "print(instruction_dataset.to_pandas())"
   ]
  },
  {
   "cell_type": "code",
   "execution_count": null,
   "id": "3bdd5a18",
   "metadata": {},
   "outputs": [],
   "source": [
    "instruction_dataset.to_pandas()"
   ]
  },
  {
   "cell_type": "code",
   "execution_count": null,
   "id": "9372ef91",
   "metadata": {},
   "outputs": [],
   "source": [
    "filtered_dataset = instruction_dataset.train_test_split(test_size=0.1)\n",
    "filtered_dataset.push_to_hub(\"SkillRipper/llmtwin\")"
   ]
  },
  {
   "cell_type": "code",
   "execution_count": null,
   "id": "cc6e08f7",
   "metadata": {},
   "outputs": [],
   "source": [
    "# final_dataset.push_to_hub(\"SkillRipper/llmtwin2\")"
   ]
  },
  {
   "cell_type": "code",
   "execution_count": null,
   "id": "5c61aeab",
   "metadata": {},
   "outputs": [],
   "source": [
    "# filtered_dataset = instruction_dataset.train_test_split(test_size=0.1)\n",
    "# filtered_dataset.push_to_hub(\"mlabonne/llmtwin\")\n"
   ]
  }
 ],
 "metadata": {
  "kernelspec": {
   "display_name": "mirrormuse",
   "language": "python",
   "name": "python3"
  },
  "language_info": {
   "codemirror_mode": {
    "name": "ipython",
    "version": 3
   },
   "file_extension": ".py",
   "mimetype": "text/x-python",
   "name": "python",
   "nbconvert_exporter": "python",
   "pygments_lexer": "ipython3",
   "version": "3.12.9"
  }
 },
 "nbformat": 4,
 "nbformat_minor": 5
}
